{
 "cells": [
  {
   "cell_type": "raw",
   "metadata": {},
   "source": [
    "---\n",
    "title: \"Creat Table And Insert Record\"\n",
    "author: \"TACT\"\n",
    "date: 2019-05-26\n",
    "description: \"-\"\n",
    "type: technical_note\n",
    "draft: false\n",
    "---"
   ]
  },
  {
   "cell_type": "raw",
   "metadata": {},
   "source": []
  },
  {
   "cell_type": "code",
   "execution_count": 35,
   "metadata": {},
   "outputs": [],
   "source": [
    "import sqlalchemy\n",
    "from sqlalchemy import create_engine\n",
    "from sqlalchemy import Column, Integer, String\n",
    "from sqlalchemy.ext.declarative import declarative_base\n",
    "from sqlalchemy.orm import sessionmaker"
   ]
  },
  {
   "cell_type": "code",
   "execution_count": 36,
   "metadata": {},
   "outputs": [],
   "source": [
    "engine = create_engine('sqlite:///:data.db', echo=True)\n",
    "Base = declarative_base()\n",
    "Session = sessionmaker(bind=engine)\n",
    "session =  Session()"
   ]
  },
  {
   "cell_type": "code",
   "execution_count": 37,
   "metadata": {},
   "outputs": [],
   "source": [
    "class Country(Base):\n",
    "    \n",
    "    __tablename__ = 'country'\n",
    "    \n",
    "    id = Column(Integer, primary_key=True)\n",
    "    name = Column(String)\n",
    "    capital = Column(String)\n",
    "    population = Column(Integer)\n",
    "    \n",
    "    def __init__(self, id, name, capital, population):\n",
    "        self.id = id\n",
    "        self.name = name\n",
    "        self.capital = capital\n",
    "        self.population = population\n",
    "    \n",
    "    def json(self):\n",
    "        return {\n",
    "            'id': self.id,\n",
    "            'name': self.name,\n",
    "            'capital': self.capital,\n",
    "            'population': self.population\n",
    "        }"
   ]
  },
  {
   "cell_type": "code",
   "execution_count": 38,
   "metadata": {},
   "outputs": [
    {
     "name": "stdout",
     "output_type": "stream",
     "text": [
      "2019-05-26 19:16:43,912 INFO sqlalchemy.engine.base.Engine SELECT CAST('test plain returns' AS VARCHAR(60)) AS anon_1\n",
      "2019-05-26 19:16:43,914 INFO sqlalchemy.engine.base.Engine ()\n",
      "2019-05-26 19:16:43,917 INFO sqlalchemy.engine.base.Engine SELECT CAST('test unicode returns' AS VARCHAR(60)) AS anon_1\n",
      "2019-05-26 19:16:43,919 INFO sqlalchemy.engine.base.Engine ()\n",
      "2019-05-26 19:16:43,922 INFO sqlalchemy.engine.base.Engine PRAGMA table_info(\"country\")\n",
      "2019-05-26 19:16:43,923 INFO sqlalchemy.engine.base.Engine ()\n",
      "2019-05-26 19:16:43,925 INFO sqlalchemy.engine.base.Engine \n",
      "CREATE TABLE country (\n",
      "\tid INTEGER NOT NULL, \n",
      "\tname VARCHAR, \n",
      "\tcapital VARCHAR, \n",
      "\tpopulation INTEGER, \n",
      "\tPRIMARY KEY (id)\n",
      ")\n",
      "\n",
      "\n",
      "2019-05-26 19:16:43,926 INFO sqlalchemy.engine.base.Engine ()\n",
      "2019-05-26 19:16:44,068 INFO sqlalchemy.engine.base.Engine COMMIT\n"
     ]
    }
   ],
   "source": [
    "Base.metadata.create_all(engine)"
   ]
  },
  {
   "cell_type": "code",
   "execution_count": 39,
   "metadata": {},
   "outputs": [],
   "source": [
    "# insert some country row\n",
    "item = Country(1, 'Chaina', 'Beijing', 138.64)\n",
    "# add row in database\n",
    "session.add(item) \n",
    "item = Country(2, 'India', 'New Delhi', 133.92)\n",
    "# add row in database\n",
    "session.add(item)\n",
    "item = Country(3, 'France', 'Paris', 6.7)\n",
    "# add row in database\n",
    "session.add(item)\n",
    "item = Country(4, 'United Kingdom', 'London', 6.6)\n",
    "# add row in database\n",
    "session.add(item)\n",
    "item = Country(5, 'Germany', 'Berlin', 8.28)\n",
    "# add row in database\n",
    "session.add(item)\n"
   ]
  },
  {
   "cell_type": "code",
   "execution_count": 40,
   "metadata": {},
   "outputs": [
    {
     "name": "stdout",
     "output_type": "stream",
     "text": [
      "2019-05-26 19:16:45,011 INFO sqlalchemy.engine.base.Engine BEGIN (implicit)\n",
      "2019-05-26 19:16:45,015 INFO sqlalchemy.engine.base.Engine INSERT INTO country (id, name, capital, population) VALUES (?, ?, ?, ?)\n",
      "2019-05-26 19:16:45,019 INFO sqlalchemy.engine.base.Engine ((1, 'Chaina', 'Beijing', 138.64), (2, 'India', 'New Delhi', 133.92), (3, 'France', 'Paris', 6.7), (4, 'United Kingdom', 'London', 6.6), (5, 'Germany', 'Berlin', 8.28))\n",
      "2019-05-26 19:16:45,022 INFO sqlalchemy.engine.base.Engine COMMIT\n"
     ]
    }
   ],
   "source": [
    "# after insert row then want to commit\n",
    "session.commit()"
   ]
  },
  {
   "cell_type": "code",
   "execution_count": 41,
   "metadata": {},
   "outputs": [
    {
     "name": "stdout",
     "output_type": "stream",
     "text": [
      "2019-05-26 19:16:45,379 INFO sqlalchemy.engine.base.Engine BEGIN (implicit)\n",
      "2019-05-26 19:16:45,384 INFO sqlalchemy.engine.base.Engine SELECT country.id AS country_id, country.name AS country_name, country.capital AS country_capital, country.population AS country_population \n",
      "FROM country\n",
      "2019-05-26 19:16:45,389 INFO sqlalchemy.engine.base.Engine ()\n",
      "{'id': 1, 'name': 'Chaina', 'capital': 'Beijing', 'population': 138.64}\n",
      "{'id': 2, 'name': 'India', 'capital': 'New Delhi', 'population': 133.92}\n",
      "{'id': 3, 'name': 'France', 'capital': 'Paris', 'population': 6.7}\n",
      "{'id': 4, 'name': 'United Kingdom', 'capital': 'London', 'population': 6.6}\n",
      "{'id': 5, 'name': 'Germany', 'capital': 'Berlin', 'population': 8.28}\n"
     ]
    }
   ],
   "source": [
    "# let see what data in country table\n",
    "items = session.query(Country).all()\n",
    "for item in items:\n",
    "    print(item.json())\n"
   ]
  },
  {
   "cell_type": "code",
   "execution_count": 42,
   "metadata": {},
   "outputs": [],
   "source": [
    "#"
   ]
  },
  {
   "cell_type": "code",
   "execution_count": null,
   "metadata": {},
   "outputs": [],
   "source": []
  }
 ],
 "metadata": {
  "kernelspec": {
   "display_name": "Python 3",
   "language": "python",
   "name": "python3"
  },
  "language_info": {
   "codemirror_mode": {
    "name": "ipython",
    "version": 3
   },
   "file_extension": ".py",
   "mimetype": "text/x-python",
   "name": "python",
   "nbconvert_exporter": "python",
   "pygments_lexer": "ipython3",
   "version": "3.7.3"
  }
 },
 "nbformat": 4,
 "nbformat_minor": 2
}
