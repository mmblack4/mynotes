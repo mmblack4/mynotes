{
 "cells": [
  {
   "cell_type": "raw",
   "metadata": {},
   "source": [
    "---\n",
    "title: \"rock paper scissor\"\n",
    "author: \"TACT\"\n",
    "date: 2019-04-20\n",
    "description: \"-\"\n",
    "type: technical_note\n",
    "draft: false\n",
    "---"
   ]
  },
  {
   "cell_type": "code",
   "execution_count": 18,
   "metadata": {},
   "outputs": [],
   "source": [
    "import random\n",
    "chose = [\"rock\",\"paper\",\"scissor\"]"
   ]
  },
  {
   "cell_type": "code",
   "execution_count": 19,
   "metadata": {},
   "outputs": [],
   "source": [
    "def play(youChose):\n",
    "    computerChose = random.choice(chose)\n",
    "    print('you:',youChose,',computer:',computerChose)\n",
    "    if youChose == computerChose:\n",
    "        return 'Draw'\n",
    "    elif youChose == 'rock' and computerChose == 'paper':\n",
    "        return \"computer won\"\n",
    "    elif youChose == 'rock' and computerChose == 'scissor':\n",
    "        return \"you won\"\n",
    "    elif youChose == 'paper' and computerChose == 'rock':\n",
    "        return 'you won'\n",
    "    elif youChose == 'paper' and computerChose == 'scissor':\n",
    "        return 'computer won'\n",
    "    elif youChose == 'scissor' and computerChose == 'rock':\n",
    "        return 'computer won'\n",
    "    elif youChose == 'scissor' and computerChose == 'paper':\n",
    "        return 'you won'"
   ]
  },
  {
   "cell_type": "code",
   "execution_count": 20,
   "metadata": {},
   "outputs": [
    {
     "name": "stdout",
     "output_type": "stream",
     "text": [
      "you: rock ,computer: paper\n"
     ]
    },
    {
     "data": {
      "text/plain": [
       "'computer won'"
      ]
     },
     "execution_count": 20,
     "metadata": {},
     "output_type": "execute_result"
    }
   ],
   "source": [
    "play('rock')"
   ]
  },
  {
   "cell_type": "code",
   "execution_count": 21,
   "metadata": {},
   "outputs": [
    {
     "name": "stdout",
     "output_type": "stream",
     "text": [
      "you: paper ,computer: scissor\n"
     ]
    },
    {
     "data": {
      "text/plain": [
       "'computer won'"
      ]
     },
     "execution_count": 21,
     "metadata": {},
     "output_type": "execute_result"
    }
   ],
   "source": [
    "play('paper')"
   ]
  },
  {
   "cell_type": "code",
   "execution_count": 22,
   "metadata": {},
   "outputs": [
    {
     "name": "stdout",
     "output_type": "stream",
     "text": [
      "you: scissor ,computer: paper\n"
     ]
    },
    {
     "data": {
      "text/plain": [
       "'you won'"
      ]
     },
     "execution_count": 22,
     "metadata": {},
     "output_type": "execute_result"
    }
   ],
   "source": [
    "play('scissor')"
   ]
  },
  {
   "cell_type": "code",
   "execution_count": 23,
   "metadata": {},
   "outputs": [
    {
     "name": "stdout",
     "output_type": "stream",
     "text": [
      "you: scissor ,computer: paper\n"
     ]
    },
    {
     "data": {
      "text/plain": [
       "'you won'"
      ]
     },
     "execution_count": 23,
     "metadata": {},
     "output_type": "execute_result"
    }
   ],
   "source": [
    "play('scissor')"
   ]
  },
  {
   "cell_type": "code",
   "execution_count": 24,
   "metadata": {},
   "outputs": [
    {
     "name": "stdout",
     "output_type": "stream",
     "text": [
      "you: rock ,computer: scissor\n"
     ]
    },
    {
     "data": {
      "text/plain": [
       "'you won'"
      ]
     },
     "execution_count": 24,
     "metadata": {},
     "output_type": "execute_result"
    }
   ],
   "source": [
    "play('rock')"
   ]
  },
  {
   "cell_type": "code",
   "execution_count": 25,
   "metadata": {},
   "outputs": [
    {
     "name": "stdout",
     "output_type": "stream",
     "text": [
      "you: rock ,computer: rock\n"
     ]
    },
    {
     "data": {
      "text/plain": [
       "'Draw'"
      ]
     },
     "execution_count": 25,
     "metadata": {},
     "output_type": "execute_result"
    }
   ],
   "source": [
    "play('rock')"
   ]
  },
  {
   "cell_type": "code",
   "execution_count": null,
   "metadata": {},
   "outputs": [],
   "source": []
  }
 ],
 "metadata": {
  "kernelspec": {
   "display_name": "Python 3",
   "language": "python",
   "name": "python3"
  },
  "language_info": {
   "codemirror_mode": {
    "name": "ipython",
    "version": 3
   },
   "file_extension": ".py",
   "mimetype": "text/x-python",
   "name": "python",
   "nbconvert_exporter": "python",
   "pygments_lexer": "ipython3",
   "version": "3.7.1"
  }
 },
 "nbformat": 4,
 "nbformat_minor": 2
}
