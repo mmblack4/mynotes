{
 "cells": [
  {
   "cell_type": "raw",
   "metadata": {},
   "source": [
    "---\n",
    "title: \"Server Implementation\"\n",
    "author: \"TACT\"\n",
    "date: 2019-04-20\n",
    "description: \"-\"\n",
    "type: technical_note\n",
    "draft: false\n",
    "---"
   ]
  },
  {
   "cell_type": "markdown",
   "metadata": {},
   "source": [
    "* Network server are a bit more tricky\n",
    "* must listen for incoming connections on a well-know port number\n",
    "* Tyically run foreve in a server-loop\n",
    "* May have to service multiple clients"
   ]
  },
  {
   "cell_type": "markdown",
   "metadata": {},
   "source": [
    "# TCP Server"
   ]
  },
  {
   "cell_type": "code",
   "execution_count": null,
   "metadata": {},
   "outputs": [],
   "source": [
    "from socket import *\n",
    "s = socket(AF_INET, SOCK_STREAM)\n",
    "s.bind((\"127.0.0.1\", 9000)) # binds the socket to a specific address\n",
    "s.listen(5) #Tells operating system to start listening for connections on the socket\n",
    "\n",
    "while True:\n",
    "    clientsocket, address = s.accept() #Accept a new client connection\n",
    "    # clientsocket - This is a new socket that's used for data\n",
    "    # address - This is the network/port address of the client that connected\n",
    "    print(\"connection from {address}\")\n",
    "    clientsocket.send(bytes(\"Hello {address[0]}\", 'utf-8')) # send data to client to client socket\n",
    "    # send data can be bytes\n",
    "    clientsocket.close()\n",
    "    "
   ]
  },
  {
   "cell_type": "markdown",
   "metadata": {},
   "source": [
    "# client"
   ]
  },
  {
   "cell_type": "code",
   "execution_count": null,
   "metadata": {},
   "outputs": [],
   "source": [
    "from socket import *\n",
    "s = socket(AF_INET, SOCK_STREAM)\n",
    "s.connect((\"127.0.0.1\", 9000)) # connecting to server by specifice addres and port\n",
    "\n",
    "msg = s.recv(1024) # receive data and stord buffer, IN this case buffer size is 1024 character\n",
    "print(msg.decode('utf-8'))\n"
   ]
  },
  {
   "cell_type": "code",
   "execution_count": null,
   "metadata": {},
   "outputs": [],
   "source": []
  }
 ],
 "metadata": {
  "kernelspec": {
   "display_name": "Python 3",
   "language": "python",
   "name": "python3"
  },
  "language_info": {
   "codemirror_mode": {
    "name": "ipython",
    "version": 3
   },
   "file_extension": ".py",
   "mimetype": "text/x-python",
   "name": "python",
   "nbconvert_exporter": "python",
   "pygments_lexer": "ipython3",
   "version": "3.7.3"
  }
 },
 "nbformat": 4,
 "nbformat_minor": 2
}
