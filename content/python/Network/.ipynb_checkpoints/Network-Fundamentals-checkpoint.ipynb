{
 "cells": [
  {
   "cell_type": "raw",
   "metadata": {},
   "source": [
    "---\n",
    "title: \"Network Fundamentals\"\n",
    "author: \"TACT\"\n",
    "date: 2019-04-20\n",
    "description: \"-\"\n",
    "type: technical_note\n",
    "draft: false\n",
    "---"
   ]
  },
  {
   "cell_type": "markdown",
   "metadata": {},
   "source": [
    "## The Problem\n",
    "\n",
    "    * Communication between computers\n",
    "    \n",
    "    * It's just sending/receiving bits"
   ]
  },
  {
   "cell_type": "markdown",
   "metadata": {},
   "source": [
    "## Two Min Issues\n",
    "\n",
    "    * Addressing\n",
    "    \n",
    "        * Specifying a remote computer and service\n",
    "        \n",
    "    * Data transport\n",
    "    \n",
    "        * Moving bits back and forth"
   ]
  },
  {
   "cell_type": "markdown",
   "metadata": {},
   "source": [
    "## Network Addressing\n",
    "\n",
    "    * Machines have a hostname and IP address\n",
    "    \n",
    "    * Programs/services have port number"
   ]
  },
  {
   "cell_type": "markdown",
   "metadata": {},
   "source": [
    "## Standard Ports\n",
    "\n",
    "    * Ports for common services are Pressigned\n",
    "    \n",
    "         21  FTP\n",
    "         \n",
    "         22  SSH\n",
    "         \n",
    "         23  Telnet\n",
    "         \n",
    "         25  SMTP  (Mail)\n",
    "         \n",
    "         80  HTTP  (Web)\n",
    "         \n",
    "        110  POP3  (Mail)\n",
    "        \n",
    "        119  NNTP  (News)\n",
    "        \n",
    "        443  HTTPs (web)\n",
    "        \n",
    "    * Other port numbers may just be randomly assigned to programs by the operation system"
   ]
  },
  {
   "cell_type": "markdown",
   "metadata": {},
   "source": [
    "## Using netstart\n",
    "\n",
    "    * Use 'netstart' to view active network connections\n",
    "    \n",
    "        sheel: newstart -a\n",
    "        \n",
    "    * Note: Must execute from the command shell on both Unix and Windows"
   ]
  },
  {
   "cell_type": "markdown",
   "metadata": {},
   "source": [
    "## Connections\n",
    "\n",
    "    * Each endpoint of network connection is always represented by a host and post #\n",
    "    \n",
    "    * In python you write it out as a tuple (host, post)"
   ]
  },
  {
   "cell_type": "markdown",
   "metadata": {},
   "source": [
    "## Client/Server concept\n",
    "    * Each endpoint is a running program\n",
    "    \n",
    "    * servers wait for incoming connections and provide a service (e.g: web, mail)\n",
    "    \n",
    "    * Clients make connections to servers"
   ]
  },
  {
   "cell_type": "markdown",
   "metadata": {},
   "source": [
    "## Request/Response Cycle\n",
    "    * Most nerwork programs use a request/response model based on messages\n",
    "    \n",
    "    * Client sends a request message (eg: HTTP)\n",
    "            GET /index.html HTTP/1.0\n",
    "        \n",
    "    * server sends back a response message\n",
    "        HTTP/1.0 200 ok\n",
    "        content-type: text/html\n",
    "        content-length: 48823\n",
    "        \n",
    "        <html>\n",
    "        .....\n",
    "        \n",
    "    * The exact fromat depends on the appllication"
   ]
  },
  {
   "cell_type": "markdown",
   "metadata": {},
   "source": [
    "## Using Telnet\n",
    "    * As a debugging aid, telnet can be used to directly communicate with manu services\n",
    "        telnet hostnmae portnum\n",
    "   "
   ]
  },
  {
   "cell_type": "markdown",
   "metadata": {},
   "source": [
    "## Data Transport\n",
    "    * There are two basic types of communication\n",
    "    \n",
    "    * Streams (TCP): computers establish a connection with each other and read/Write data in a continuous stream of byetes like a flie. This is the most common\n",
    "    \n",
    "    * Datagrams (UDP): Computers send discrete packets (or messages) to each other. Each packet contains a collection of bytes, but each packet is separate and self-contained."
   ]
  },
  {
   "cell_type": "markdown",
   "metadata": {},
   "source": [
    "## Sockets\n",
    "    * Programming abstraction for network code\n",
    "    \n",
    "    * Socket: A communication endpoint\n",
    "    \n",
    "    * Supported by socket library module\n",
    "    \n",
    "    * Allows connections to be made and data to be transmitted in either direction"
   ]
  },
  {
   "cell_type": "markdown",
   "metadata": {},
   "source": [
    "## Socket Basics\n",
    "    * To create a socket\n",
    "        import socket\n",
    "        s = socket.socket(addr_family, type)\n",
    "        \n",
    "    * Address families\n",
    "        socket.AF_INET  internet protocol (IPv4)\n",
    "        socket.AF_INET6 internet protocol (IPV6)\n",
    "        \n",
    "    * Socket types\n",
    "        socket.SOCK_STREAM connection baseed stream (TCP)\n",
    "        socket.SOCK_DGRAM  Datagrams (UDP)\n",
    "    "
   ]
  },
  {
   "cell_type": "markdown",
   "metadata": {},
   "source": [
    "## socket Types\n",
    "    * Almost all code will use one of following\n",
    "    \n",
    "        from socket import *\n",
    "        \n",
    "        s = socket(AF_INET, SOCK_STREAM)\n",
    "        s = scoket(AF_INET, SOCK_DGRAM)\n",
    "    \n",
    "    * Most common case: TCP connection\n",
    "        s = socket(AF_INET, SOCK_STREAM)\n",
    "        "
   ]
  },
  {
   "cell_type": "markdown",
   "metadata": {},
   "source": [
    "## Using a Scoket\n",
    "    * creating a socket is onlu th first step\n",
    "    \n",
    "        s = socket(AF_INET, SOCK_STREAM)\n",
    "        \n",
    "    * Further use depends on application\n",
    "    \n",
    "    * Server\n",
    "        * Listen for incoming connections\n",
    "    \n",
    "    * Client\n",
    "        \n",
    "        * Make an outgoing connection\n",
    "    "
   ]
  },
  {
   "cell_type": "markdown",
   "metadata": {},
   "source": [
    "# TCP Client\n",
    "    * How to make an outgoing connection\n",
    "        \n",
    "        from socket import *\n",
    "        s = socket(AF_INET, SOCK_STREAM)\n",
    "        s.connect(('www.python.org', 80))\n",
    "        s.send(\"GET /index.html HTTP/1.0\\n\\n\")\n",
    "        data = s.recv(10000)\n",
    "        s.close()\n",
    "        \n",
    "    * s.connect(addr) makes a connection\n",
    "        s.connect(('www.python.org',80))\n",
    "       \n",
    "    * Once connected, usd send(),recv() to transmit and receive data\n",
    "    \n",
    "    * close() shuts down the connection"
   ]
  },
  {
   "cell_type": "code",
   "execution_count": null,
   "metadata": {},
   "outputs": [],
   "source": []
  }
 ],
 "metadata": {
  "kernelspec": {
   "display_name": "Python 3",
   "language": "python",
   "name": "python3"
  },
  "language_info": {
   "codemirror_mode": {
    "name": "ipython",
    "version": 3
   },
   "file_extension": ".py",
   "mimetype": "text/x-python",
   "name": "python",
   "nbconvert_exporter": "python",
   "pygments_lexer": "ipython3",
   "version": "3.7.3"
  }
 },
 "nbformat": 4,
 "nbformat_minor": 2
}
