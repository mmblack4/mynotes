{
 "cells": [
  {
   "cell_type": "raw",
   "metadata": {},
   "source": [
    "---\n",
    "title: \"Loading Data From The Web\"\n",
    "author: \"TACT\"\n",
    "date: 2019-05-27\n",
    "description: \"-\"\n",
    "type: technical_note\n",
    "draft: false\n",
    "---"
   ]
  },
  {
   "cell_type": "raw",
   "metadata": {},
   "source": [
    "Data from the web can also be easily read with pandas. to demonstrate this, we will perform a simple load of actual stock data"
   ]
  },
  {
   "cell_type": "code",
   "execution_count": 36,
   "metadata": {},
   "outputs": [],
   "source": [
    "import pandas_datareader.data as web\n",
    "from datetime import date\n",
    "from dateutil.relativedelta import relativedelta"
   ]
  },
  {
   "cell_type": "code",
   "execution_count": 37,
   "metadata": {},
   "outputs": [],
   "source": [
    "# read the last three months of data for GOOG\n",
    "goog = web.DataReader('GOOG', \"yahoo\",\n",
    "                     date.today() +\n",
    "                     relativedelta(months=-3))"
   ]
  },
  {
   "cell_type": "code",
   "execution_count": 38,
   "metadata": {},
   "outputs": [
    {
     "data": {
      "text/html": [
       "<div>\n",
       "<style scoped>\n",
       "    .dataframe tbody tr th:only-of-type {\n",
       "        vertical-align: middle;\n",
       "    }\n",
       "\n",
       "    .dataframe tbody tr th {\n",
       "        vertical-align: top;\n",
       "    }\n",
       "\n",
       "    .dataframe thead th {\n",
       "        text-align: right;\n",
       "    }\n",
       "</style>\n",
       "<table border=\"1\" class=\"dataframe\">\n",
       "  <thead>\n",
       "    <tr style=\"text-align: right;\">\n",
       "      <th></th>\n",
       "      <th>High</th>\n",
       "      <th>Low</th>\n",
       "      <th>Open</th>\n",
       "      <th>Close</th>\n",
       "      <th>Volume</th>\n",
       "      <th>Adj Close</th>\n",
       "    </tr>\n",
       "    <tr>\n",
       "      <th>Date</th>\n",
       "      <th></th>\n",
       "      <th></th>\n",
       "      <th></th>\n",
       "      <th></th>\n",
       "      <th></th>\n",
       "      <th></th>\n",
       "    </tr>\n",
       "  </thead>\n",
       "  <tbody>\n",
       "    <tr>\n",
       "      <th>2019-02-26</th>\n",
       "      <td>1119.510010</td>\n",
       "      <td>1099.920044</td>\n",
       "      <td>1105.750000</td>\n",
       "      <td>1115.130005</td>\n",
       "      <td>1471300</td>\n",
       "      <td>1115.130005</td>\n",
       "    </tr>\n",
       "    <tr>\n",
       "      <th>2019-02-27</th>\n",
       "      <td>1117.979980</td>\n",
       "      <td>1101.000000</td>\n",
       "      <td>1106.949951</td>\n",
       "      <td>1116.050049</td>\n",
       "      <td>968400</td>\n",
       "      <td>1116.050049</td>\n",
       "    </tr>\n",
       "    <tr>\n",
       "      <th>2019-02-28</th>\n",
       "      <td>1127.650024</td>\n",
       "      <td>1111.010010</td>\n",
       "      <td>1111.300049</td>\n",
       "      <td>1119.920044</td>\n",
       "      <td>1542500</td>\n",
       "      <td>1119.920044</td>\n",
       "    </tr>\n",
       "    <tr>\n",
       "      <th>2019-03-01</th>\n",
       "      <td>1142.969971</td>\n",
       "      <td>1124.750000</td>\n",
       "      <td>1124.900024</td>\n",
       "      <td>1140.989990</td>\n",
       "      <td>1450300</td>\n",
       "      <td>1140.989990</td>\n",
       "    </tr>\n",
       "    <tr>\n",
       "      <th>2019-03-04</th>\n",
       "      <td>1158.280029</td>\n",
       "      <td>1130.689941</td>\n",
       "      <td>1146.989990</td>\n",
       "      <td>1147.800049</td>\n",
       "      <td>1446000</td>\n",
       "      <td>1147.800049</td>\n",
       "    </tr>\n",
       "  </tbody>\n",
       "</table>\n",
       "</div>"
      ],
      "text/plain": [
       "                   High          Low         Open        Close   Volume  \\\n",
       "Date                                                                      \n",
       "2019-02-26  1119.510010  1099.920044  1105.750000  1115.130005  1471300   \n",
       "2019-02-27  1117.979980  1101.000000  1106.949951  1116.050049   968400   \n",
       "2019-02-28  1127.650024  1111.010010  1111.300049  1119.920044  1542500   \n",
       "2019-03-01  1142.969971  1124.750000  1124.900024  1140.989990  1450300   \n",
       "2019-03-04  1158.280029  1130.689941  1146.989990  1147.800049  1446000   \n",
       "\n",
       "              Adj Close  \n",
       "Date                     \n",
       "2019-02-26  1115.130005  \n",
       "2019-02-27  1116.050049  \n",
       "2019-02-28  1119.920044  \n",
       "2019-03-01  1140.989990  \n",
       "2019-03-04  1147.800049  "
      ]
     },
     "execution_count": 38,
     "metadata": {},
     "output_type": "execute_result"
    }
   ],
   "source": [
    "goog.head()"
   ]
  },
  {
   "cell_type": "code",
   "execution_count": 39,
   "metadata": {},
   "outputs": [
    {
     "data": {
      "text/plain": [
       "Date\n",
       "2019-02-26    1115.130005\n",
       "2019-02-27    1116.050049\n",
       "2019-02-28    1119.920044\n",
       "2019-03-01    1140.989990\n",
       "2019-03-04    1147.800049\n",
       "2019-03-05    1162.030029\n",
       "2019-03-06    1157.859985\n",
       "2019-03-07    1143.300049\n",
       "2019-03-08    1142.319946\n",
       "2019-03-11    1175.760010\n",
       "2019-03-12    1193.199951\n",
       "2019-03-13    1193.319946\n",
       "2019-03-14    1185.550049\n",
       "2019-03-15    1184.459961\n",
       "2019-03-18    1184.260010\n",
       "2019-03-19    1198.849976\n",
       "2019-03-20    1223.969971\n",
       "2019-03-21    1231.540039\n",
       "2019-03-22    1205.500000\n",
       "2019-03-25    1193.000000\n",
       "2019-03-26    1184.619995\n",
       "2019-03-27    1173.020020\n",
       "2019-03-28    1168.489990\n",
       "2019-03-29    1173.310059\n",
       "2019-04-01    1194.430054\n",
       "2019-04-02    1200.489990\n",
       "2019-04-03    1205.920044\n",
       "2019-04-04    1215.000000\n",
       "2019-04-05    1207.150024\n",
       "2019-04-08    1203.839966\n",
       "                 ...     \n",
       "2019-04-12    1217.869995\n",
       "2019-04-15    1221.099976\n",
       "2019-04-16    1227.130005\n",
       "2019-04-17    1236.339966\n",
       "2019-04-18    1236.369995\n",
       "2019-04-22    1248.839966\n",
       "2019-04-23    1264.550049\n",
       "2019-04-24    1256.000000\n",
       "2019-04-25    1263.449951\n",
       "2019-04-26    1272.180054\n",
       "2019-04-29    1287.579956\n",
       "2019-04-30    1188.479980\n",
       "2019-05-01    1168.079956\n",
       "2019-05-02    1162.609985\n",
       "2019-05-03    1185.400024\n",
       "2019-05-06    1189.390015\n",
       "2019-05-07    1174.099976\n",
       "2019-05-08    1166.270020\n",
       "2019-05-09    1162.380005\n",
       "2019-05-10    1164.270020\n",
       "2019-05-13    1132.030029\n",
       "2019-05-14    1120.439941\n",
       "2019-05-15    1164.209961\n",
       "2019-05-16    1178.979980\n",
       "2019-05-17    1162.300049\n",
       "2019-05-20    1138.849976\n",
       "2019-05-21    1149.630005\n",
       "2019-05-22    1151.420044\n",
       "2019-05-23    1140.770020\n",
       "2019-05-24    1133.469971\n",
       "Name: Adj Close, Length: 63, dtype: float64"
      ]
     },
     "execution_count": 39,
     "metadata": {},
     "output_type": "execute_result"
    }
   ],
   "source": [
    "goog['Adj Close']"
   ]
  },
  {
   "cell_type": "code",
   "execution_count": null,
   "metadata": {},
   "outputs": [],
   "source": []
  }
 ],
 "metadata": {
  "kernelspec": {
   "display_name": "Python 3",
   "language": "python",
   "name": "python3"
  }
 },
 "nbformat": 4,
 "nbformat_minor": 2
}
