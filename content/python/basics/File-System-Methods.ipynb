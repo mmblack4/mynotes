{
 "cells": [
  {
   "cell_type": "raw",
   "metadata": {},
   "source": [
    "---\n",
    "title: \"File System Methods\"\n",
    "author: \"TACT\"\n",
    "date: 2019-05-25\n",
    "description: \"-\"\n",
    "type: technical_note\n",
    "draft: false\n",
    "---"
   ]
  },
  {
   "cell_type": "code",
   "execution_count": 2,
   "metadata": {},
   "outputs": [],
   "source": [
    "import os"
   ]
  },
  {
   "cell_type": "raw",
   "metadata": {},
   "source": [
    "Get Info"
   ]
  },
  {
   "cell_type": "code",
   "execution_count": 2,
   "metadata": {},
   "outputs": [
    {
     "data": {
      "text/plain": [
       "'/home/mmblack/Documents/project/mynotes/content/python/basics'"
      ]
     },
     "execution_count": 2,
     "metadata": {},
     "output_type": "execute_result"
    }
   ],
   "source": [
    "# get the current working directory path as a string (pwd - linux, windows)\n",
    "os.getcwd() "
   ]
  },
  {
   "cell_type": "code",
   "execution_count": 3,
   "metadata": {},
   "outputs": [
    {
     "data": {
      "text/plain": [
       "['simple-python.md',\n",
       " 'rock-paper-scissor.md',\n",
       " 'Find-you-IP-id-and-name.ipynb',\n",
       " 'auto-search.ipynb',\n",
       " 'template-simple-add.md',\n",
       " 'auto-search.md',\n",
       " 'break-with-youtube-song.ipynb',\n",
       " 'caesar-cipher.md',\n",
       " 'template-simple-add.ipynb',\n",
       " 'template-Copy1.md',\n",
       " 'mult.md',\n",
       " 'Find-you-IP-id-and-name.md',\n",
       " '.ipynb_checkpoints',\n",
       " 'simple-python.ipynb',\n",
       " 'template.ipynb',\n",
       " 'template.md',\n",
       " 'caesar-cipher.ipynb',\n",
       " 'mult.ipynb',\n",
       " 'File-System-Methods.ipynb',\n",
       " 'break-with-youtube-song.md',\n",
       " 'rock-paper-scissor.ipynb']"
      ]
     },
     "execution_count": 3,
     "metadata": {},
     "output_type": "execute_result"
    }
   ],
   "source": [
    "# get the contents of the current working directory as a list of strings(ls -linux, dir - windows)\n",
    "os.listdir()"
   ]
  },
  {
   "cell_type": "code",
   "execution_count": 4,
   "metadata": {
    "scrolled": true
   },
   "outputs": [
    {
     "name": "stdout",
     "output_type": "stream",
     "text": [
      "/home/mmblack/Documents/project/mynotes/content/\n",
      "['python']\n",
      "[]\n",
      "______________________________________________________________\n",
      "/home/mmblack/Documents/project/mynotes/content/python\n",
      "['basics', 'pandas']\n",
      "[]\n",
      "______________________________________________________________\n",
      "/home/mmblack/Documents/project/mynotes/content/python/basics\n",
      "['.ipynb_checkpoints']\n",
      "['simple-python.md', 'rock-paper-scissor.md', 'Find-you-IP-id-and-name.ipynb', 'auto-search.ipynb', 'template-simple-add.md', 'auto-search.md', 'break-with-youtube-song.ipynb', 'caesar-cipher.md', 'template-simple-add.ipynb', 'template-Copy1.md', 'mult.md', 'Find-you-IP-id-and-name.md', 'simple-python.ipynb', 'template.ipynb', 'template.md', 'caesar-cipher.ipynb', 'mult.ipynb', 'File-System-Methods.ipynb', 'break-with-youtube-song.md', 'rock-paper-scissor.ipynb']\n",
      "______________________________________________________________\n",
      "/home/mmblack/Documents/project/mynotes/content/python/basics/.ipynb_checkpoints\n",
      "[]\n",
      "['mult-checkpoint.ipynb', 'caesar-cipher-checkpoint.ipynb', 'rock-paper-scissor-checkpoint.ipynb', 'File-System-Methods-checkpoint.ipynb', 'auto-search-checkpoint.ipynb', 'Find-you-IP-id-and-name-checkpoint.ipynb', 'template-checkpoint.ipynb', 'break-with-youtube-song-checkpoint.ipynb', 'template-simple-add-checkpoint.ipynb']\n",
      "______________________________________________________________\n",
      "/home/mmblack/Documents/project/mynotes/content/python/pandas\n",
      "['.ipynb_checkpoints']\n",
      "['DataFrame_object.md', 'Series_object.md', 'Series_object.ipynb', 'template-Copy2.ipynb', 'Loading_data_from_files.ipynb', 'zero.ipynb', 'DataFrame_object.ipynb', 'zero.md', 'Loading_data_from_files.md', 'template.ipynb', 'template.md', 'template-Copy2.md']\n",
      "______________________________________________________________\n",
      "/home/mmblack/Documents/project/mynotes/content/python/pandas/.ipynb_checkpoints\n",
      "[]\n",
      "['zero-checkpoint.ipynb', 'DataFrame_object-checkpoint.ipynb', 'Series_object-checkpoint.ipynb', 'template-checkpoint.ipynb', 'template-Copy2-checkpoint.ipynb', 'Loading_data_from_files-checkpoint.ipynb']\n",
      "______________________________________________________________\n"
     ]
    }
   ],
   "source": [
    "# returns a generator with name and path info for directories and \n",
    "# files in the the current directory and all subdirectories— no exact short CLI equivalent, \n",
    "# but ls -R provides subdirectory names and the names of files within subdirectories\n",
    "\n",
    "path = '/home/mmblack/Documents/project/mynotes/content/'\n",
    "for root, dirs, files in os.walk(path):\n",
    "    print(root)\n",
    "    print(dirs)\n",
    "    print(files)\n",
    "    print('______________________________________________________________')"
   ]
  },
  {
   "cell_type": "raw",
   "metadata": {},
   "source": [
    "Change Things"
   ]
  },
  {
   "cell_type": "code",
   "execution_count": 5,
   "metadata": {},
   "outputs": [
    {
     "name": "stdout",
     "output_type": "stream",
     "text": [
      "curent dir: /home/mmblack/Documents/project/mynotes/content/python/basics\n",
      "new dir: /\n"
     ]
    }
   ],
   "source": [
    "#change the current working directory (cd -linux,windows)\n",
    "\n",
    "print(\"curent dir:\",os.getcwd())\n",
    "os.chdir('/')\n",
    "print(\"new dir:\",os.getcwd())"
   ]
  },
  {
   "cell_type": "code",
   "execution_count": null,
   "metadata": {},
   "outputs": [],
   "source": [
    "# create a path for later use\n",
    "os.path.join()"
   ]
  },
  {
   "cell_type": "code",
   "execution_count": 10,
   "metadata": {},
   "outputs": [
    {
     "data": {
      "text/plain": [
       "['happy']"
      ]
     },
     "execution_count": 10,
     "metadata": {},
     "output_type": "execute_result"
    }
   ],
   "source": [
    "# make directory(aka folder) (mkdir -linux)\n",
    "os.makedirs('/home/mmblack/Disktop/happy')\n",
    "# change directory\n",
    "os.chdir('/home/mmblack/Disktop')\n",
    "# list directory \n",
    "os.listdir()"
   ]
  },
  {
   "cell_type": "code",
   "execution_count": null,
   "metadata": {},
   "outputs": [],
   "source": [
    "# copy a file or directory (cp -linux)\n",
    "# shutil.copy2(\"source_file\", \"destination\")\n",
    "import shutil #this library of copy\n"
   ]
  }
 ],
 "metadata": {
  "kernelspec": {
   "display_name": "Python 3",
   "language": "python",
   "name": "python3"
  },
  "language_info": {
   "codemirror_mode": {
    "name": "ipython",
    "version": 3
   },
   "file_extension": ".py",
   "mimetype": "text/x-python",
   "name": "python",
   "nbconvert_exporter": "python",
   "pygments_lexer": "ipython3",
   "version": "3.7.3"
  }
 },
 "nbformat": 4,
 "nbformat_minor": 2
}
