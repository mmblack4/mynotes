{
 "cells": [
  {
   "cell_type": "raw",
   "metadata": {},
   "source": [
    "---\n",
    "title: \"Break with youtube song\"\n",
    "author: \"TACT\"\n",
    "date: 2019-04-20\n",
    "description: \"-\"\n",
    "type: technical_note\n",
    "draft: false\n",
    "---"
   ]
  },
  {
   "cell_type": "code",
   "execution_count": 2,
   "metadata": {},
   "outputs": [],
   "source": [
    "import webbrowser\n",
    "import time"
   ]
  },
  {
   "cell_type": "code",
   "execution_count": 3,
   "metadata": {},
   "outputs": [],
   "source": [
    "song_list =[\n",
    "    \"https://www.youtube.com/watch?v=kJQP7kiw5Fk\",\n",
    "    \"https://www.youtube.com/watch?v=euCqAq6BRa4\",\n",
    "    \"https://www.youtube.com/watch?v=UtF6Jej8yb4\",\n",
    "    \"https://www.youtube.com/watch?v=nYh-n7EOtMA\",\n",
    "    \"https://www.youtube.com/watch?v=J1OsKJW51HY\",\n",
    "]"
   ]
  },
  {
   "cell_type": "code",
   "execution_count": 4,
   "metadata": {},
   "outputs": [],
   "source": [
    "def break_timer(interval):\n",
    "    for i in song_list:\n",
    "        time.sleep(interval)\n",
    "        print('time to take brake')\n",
    "        webbrowser.open(i)\n",
    "    "
   ]
  },
  {
   "cell_type": "code",
   "execution_count": null,
   "metadata": {},
   "outputs": [
    {
     "name": "stdout",
     "output_type": "stream",
     "text": [
      "time to take brake\n",
      "time to take brake\n",
      "time to take brake\n"
     ]
    }
   ],
   "source": [
    "break_timer(5)"
   ]
  },
  {
   "cell_type": "code",
   "execution_count": null,
   "metadata": {},
   "outputs": [],
   "source": []
  }
 ],
 "metadata": {
  "kernelspec": {
   "display_name": "Python 3",
   "language": "python",
   "name": "python3"
  },
  "language_info": {
   "codemirror_mode": {
    "name": "ipython",
    "version": 3
   },
   "file_extension": ".py",
   "mimetype": "text/x-python",
   "name": "python",
   "nbconvert_exporter": "python",
   "pygments_lexer": "ipython3",
   "version": "3.7.1"
  }
 },
 "nbformat": 4,
 "nbformat_minor": 2
}
