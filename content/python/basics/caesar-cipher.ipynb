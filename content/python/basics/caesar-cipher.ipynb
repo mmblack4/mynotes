{
 "cells": [
  {
   "cell_type": "raw",
   "metadata": {},
   "source": [
    "---\n",
    "title: \"caesar cipher\"\n",
    "author: \"TACT\"\n",
    "date: 2019-04-20\n",
    "description: \"-\"\n",
    "type: technical_note\n",
    "draft: false\n",
    "---"
   ]
  },
  {
   "cell_type": "raw",
   "metadata": {},
   "source": [
    "Caesar Cipher:\n",
    "    The Caesar cipher is one of the earliest known and simplest ciphers. \n",
    "    It is a type of substitution cipher in which each letter in the plaintext is 'shifted' \n",
    "    a certain number of places down the alphabet. For example, with a shift of 1, A would be replaced by B,\n",
    "    B would become C, and so on. The method is named after Julius Caesar, who apparently used it to communicate with\n",
    "    his generals.\n"
   ]
  },
  {
   "cell_type": "code",
   "execution_count": 50,
   "metadata": {},
   "outputs": [],
   "source": [
    "alphabet = ' abcdefghijklmnopqrstuvwxyz '"
   ]
  },
  {
   "cell_type": "code",
   "execution_count": 51,
   "metadata": {},
   "outputs": [],
   "source": [
    "def encoder(mgs,key):\n",
    "    sour = ''\n",
    "    for i in mgs:\n",
    "        sour+=alphabet[alphabet.find(i)+key]\n",
    "    return sour"
   ]
  },
  {
   "cell_type": "code",
   "execution_count": 52,
   "metadata": {},
   "outputs": [],
   "source": [
    "def decoder(mgs,key):\n",
    "    sour = ''\n",
    "    for i in mgs:\n",
    "        sour+=alphabet[alphabet.find(i)-key]\n",
    "    return sour"
   ]
  },
  {
   "cell_type": "code",
   "execution_count": 53,
   "metadata": {},
   "outputs": [
    {
     "name": "stdout",
     "output_type": "stream",
     "text": [
      "ifmmpanzaobnfajtadbftbs\n"
     ]
    }
   ],
   "source": [
    "print(encoder('hello my name is caesar',1))"
   ]
  },
  {
   "cell_type": "code",
   "execution_count": 54,
   "metadata": {},
   "outputs": [
    {
     "name": "stdout",
     "output_type": "stream",
     "text": [
      "hello my name is caesar\n"
     ]
    }
   ],
   "source": [
    "print(decoder('ifmmpanzaobnfajtadbftbs',1))"
   ]
  },
  {
   "cell_type": "code",
   "execution_count": null,
   "metadata": {},
   "outputs": [],
   "source": []
  }
 ],
 "metadata": {
  "kernelspec": {
   "display_name": "Python 3",
   "language": "python",
   "name": "python3"
  },
  "language_info": {
   "codemirror_mode": {
    "name": "ipython",
    "version": 3
   },
   "file_extension": ".py",
   "mimetype": "text/x-python",
   "name": "python",
   "nbconvert_exporter": "python",
   "pygments_lexer": "ipython3",
   "version": "3.7.1"
  }
 },
 "nbformat": 4,
 "nbformat_minor": 2
}
